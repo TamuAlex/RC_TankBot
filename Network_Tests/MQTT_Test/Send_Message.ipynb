{
 "cells": [
  {
   "cell_type": "code",
   "execution_count": 7,
   "id": "73d0906f",
   "metadata": {},
   "outputs": [],
   "source": [
    "#!pip install azure-servicebus\n",
    "from azure.servicebus import ServiceBusClient, ServiceBusMessage"
   ]
  },
  {
   "cell_type": "code",
   "execution_count": 8,
   "id": "bbb30f53",
   "metadata": {},
   "outputs": [],
   "source": [
    "CONNECTION_STR = \"Endpoint=sb://tankrobot.servicebus.windows.net/;SharedAccessKeyName=RootManageSharedAccessKey;SharedAccessKey=QSqfXhda2ftTREIFLxsZnogZEE1eivbnriQUQOHlOZY=\"\n",
    "QUEUE_NAME = \"movement\""
   ]
  },
  {
   "cell_type": "code",
   "execution_count": 9,
   "id": "baad8ea4",
   "metadata": {},
   "outputs": [],
   "source": [
    "def send_single_message(sender,msg):\n",
    "    # create a Service Bus message\n",
    "    message = ServiceBusMessage(msg)\n",
    "    # send the message to the queue\n",
    "    sender.send_messages(message)\n",
    "    print(\"Sent a single message\")"
   ]
  },
  {
   "cell_type": "code",
   "execution_count": null,
   "id": "97cc5f8d",
   "metadata": {},
   "outputs": [
    {
     "name": "stdout",
     "output_type": "stream",
     "text": [
      "f\n",
      "Sent a single message\n",
      "f\n",
      "Sent a single message\n",
      "f\n",
      "Sent a single message\n",
      "s\n",
      "Sent a single message\n",
      "l\n",
      "Sent a single message\n",
      "s\n",
      "Sent a single message\n",
      "r\n",
      "Sent a single message\n",
      "s\n",
      "Sent a single message\n",
      "b\n",
      "Sent a single message\n",
      "s\n",
      "Sent a single message\n",
      "f\n",
      "Sent a single message\n",
      "s\n",
      "Sent a single message\n",
      "r\n",
      "Sent a single message\n",
      "s\n",
      "Sent a single message\n",
      "l\n",
      "Sent a single message\n",
      "s\n",
      "Sent a single message\n",
      "f\n",
      "Sent a single message\n",
      "s\n",
      "Sent a single message\n",
      "l\n",
      "Sent a single message\n",
      "s\n",
      "Sent a single message\n",
      "r\n",
      "Sent a single message\n",
      "s\n",
      "Sent a single message\n",
      "b\n",
      "Sent a single message\n",
      "s\n",
      "Sent a single message\n",
      "l\n",
      "Sent a single message\n",
      "s\n",
      "Sent a single message\n",
      "r\n",
      "Sent a single message\n",
      "s\n",
      "Sent a single message\n",
      "b\n",
      "Sent a single message\n",
      "s\n",
      "Sent a single message\n"
     ]
    }
   ],
   "source": [
    "# create a Service Bus client using the connection string\n",
    "servicebus_client = ServiceBusClient.from_connection_string(conn_str=CONNECTION_STR, logging_enable=True)\n",
    "with servicebus_client:\n",
    "    # get a Queue Sender object to send messages to the queue\n",
    "    sender = servicebus_client.get_queue_sender(queue_name=QUEUE_NAME)\n",
    "    with sender:\n",
    "        while True:\n",
    "            msg = input()\n",
    "            # send one message        \n",
    "            send_single_message(sender,msg)\n",
    "            \n",
    "\n",
    "\n",
    "print(\"Done sending messages\")\n",
    "print(\"-----------------------\")"
   ]
  },
  {
   "cell_type": "code",
   "execution_count": null,
   "id": "237dc592",
   "metadata": {},
   "outputs": [],
   "source": []
  }
 ],
 "metadata": {
  "kernelspec": {
   "display_name": "Python 3",
   "language": "python",
   "name": "python3"
  },
  "language_info": {
   "codemirror_mode": {
    "name": "ipython",
    "version": 3
   },
   "file_extension": ".py",
   "mimetype": "text/x-python",
   "name": "python",
   "nbconvert_exporter": "python",
   "pygments_lexer": "ipython3",
   "version": "3.8.8"
  }
 },
 "nbformat": 4,
 "nbformat_minor": 5
}
