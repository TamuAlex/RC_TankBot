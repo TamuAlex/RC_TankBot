{
 "cells": [
  {
   "cell_type": "code",
   "execution_count": 1,
   "id": "370a22c8",
   "metadata": {},
   "outputs": [],
   "source": [
    "from gpiozero import Servo\n",
    "from gpiozero.pins.pigpio import PiGPIOFactory"
   ]
  },
  {
   "cell_type": "code",
   "execution_count": null,
   "id": "5b093ce9",
   "metadata": {},
   "outputs": [],
   "source": [
    "factory=PiGPIOFactory()\n",
    "s=Servo(6, min_pulse_width= 0.001 , max_pulse_width=0.002,pin_factory=factory)"
   ]
  },
  {
   "cell_type": "code",
   "execution_count": null,
   "id": "842ed2ce",
   "metadata": {},
   "outputs": [],
   "source": [
    "s.pulse_width"
   ]
  },
  {
   "cell_type": "code",
   "execution_count": null,
   "id": "2eaffeb7",
   "metadata": {},
   "outputs": [],
   "source": [
    "s.max()"
   ]
  },
  {
   "cell_type": "code",
   "execution_count": null,
   "id": "6b0cbba4",
   "metadata": {},
   "outputs": [],
   "source": [
    "s.pulse_width\n"
   ]
  },
  {
   "cell_type": "code",
   "execution_count": null,
   "id": "99ec4330",
   "metadata": {},
   "outputs": [],
   "source": [
    "s.min()\n"
   ]
  },
  {
   "cell_type": "code",
   "execution_count": null,
   "id": "9f472e30",
   "metadata": {},
   "outputs": [],
   "source": [
    "s.value=None"
   ]
  },
  {
   "cell_type": "code",
   "execution_count": null,
   "id": "76db5d92",
   "metadata": {},
   "outputs": [],
   "source": [
    "from gpiozero import LED"
   ]
  },
  {
   "cell_type": "code",
   "execution_count": null,
   "id": "26c1300b",
   "metadata": {},
   "outputs": [],
   "source": [
    "led=LED(10)"
   ]
  },
  {
   "cell_type": "code",
   "execution_count": null,
   "id": "fb850be0",
   "metadata": {},
   "outputs": [],
   "source": [
    "led.on()"
   ]
  },
  {
   "cell_type": "code",
   "execution_count": null,
   "id": "1f9d910e",
   "metadata": {},
   "outputs": [],
   "source": [
    "led.off()"
   ]
  },
  {
   "cell_type": "code",
   "execution_count": null,
   "id": "63867a43",
   "metadata": {},
   "outputs": [],
   "source": []
  }
 ],
 "metadata": {
  "kernelspec": {
   "display_name": "Python 3 (ipykernel)",
   "language": "python",
   "name": "python3"
  },
  "language_info": {
   "codemirror_mode": {
    "name": "ipython",
    "version": 3
   },
   "file_extension": ".py",
   "mimetype": "text/x-python",
   "name": "python",
   "nbconvert_exporter": "python",
   "pygments_lexer": "ipython3",
   "version": "3.7.3"
  }
 },
 "nbformat": 4,
 "nbformat_minor": 5
}
