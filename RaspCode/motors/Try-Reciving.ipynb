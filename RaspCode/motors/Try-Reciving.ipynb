{
 "cells": [
  {
   "cell_type": "raw",
   "metadata": {},
   "source": []
  },
  {
   "cell_type": "code",
   "execution_count": null,
   "metadata": {},
   "outputs": [],
   "source": [
    "# import os\n",
    "import time\n",
    "from movement import *\n",
    "\n",
    "\n",
    "car=Movement()\n",
    "\n",
    "CONNECTION_STR = \"Endpoint=sb://tankrobot.servicebus.windows.net/;SharedAccessKeyName=RootManageSharedAccessKey;SharedAccessKey=QSqfXhda2ftTREIFLxsZnogZEE1eivbnriQUQOHlOZY=\"\n",
    "QUEUE_NAME = \"movement\"\n",
    "servicebus_client = ServiceBusClient.from_connection_string(conn_str=CONNECTION_STR, logging_enable=True)\n",
    "\n",
    "with servicebus_client:\n",
    "    # get the Queue Receiver object for the queue\n",
    "    receiver = servicebus_client.get_queue_receiver(queue_name=QUEUE_NAME, max_wait_time=10000)\n",
    "    with receiver:\n",
    "        for msg in receiver:\n",
    "            \n",
    "            if str(msg)==\"f\":\n",
    "                car.forward()\n",
    "            elif str(msg)==\"b\":\n",
    "                car.back()\n",
    "            elif str(msg)==\"r\":\n",
    "                car.right()\n",
    "            elif str(msg)==\"l\":\n",
    "                car.left()\n",
    "            elif str(msg).split(\":\")[0]==\"c\":\n",
    "                car.setSpeed(int(str(msg).split(\":\")[1]))\n",
    "            else:\n",
    "                car.stop()\n",
    "            print(\"Received: \" + str(msg) + str(time.ctime()))\n",
    "            receiver.complete_message(msg)"
   ]
  },
  {
   "cell_type": "code",
   "execution_count": null,
   "metadata": {},
   "outputs": [],
   "source": [
    "\n",
    "msg=\"c:10\"\n",
    "h=int(str(msg).split(\":\")[1])\n",
    "print(str(h))"
   ]
  },
  {
   "cell_type": "code",
   "execution_count": null,
   "metadata": {},
   "outputs": [],
   "source": [
    "import time\n",
    "from movement import *\n",
    "\n",
    "car=Movement()\n",
    "car.forward()\n",
    "time.sleep(2)\n",
    "car.stop()"
   ]
  },
  {
   "cell_type": "code",
   "execution_count": null,
   "metadata": {},
   "outputs": [],
   "source": [
    "from movement import *\n",
    "import time\n",
    "car=Movement()\n",
    "car.forward()\n",
    "time.sleep(3)\n",
    "c"
   ]
  }
 ],
 "metadata": {
  "kernelspec": {
   "display_name": "Python 3 (ipykernel)",
   "language": "python",
   "name": "python3"
  },
  "language_info": {
   "codemirror_mode": {
    "name": "ipython",
    "version": 3
   },
   "file_extension": ".py",
   "mimetype": "text/x-python",
   "name": "python",
   "nbconvert_exporter": "python",
   "pygments_lexer": "ipython3",
   "version": "3.7.3"
  }
 },
 "nbformat": 4,
 "nbformat_minor": 2
}
